{
 "cells": [
  {
   "cell_type": "code",
   "execution_count": null,
   "metadata": {},
   "outputs": [],
   "source": [
    "# ValkyriaLenneth/longformer_zh\n",
    "# IDEA-CCNL/Erlangshen-MegatronBert-1.3B\n",
    "# severinsimmler/xlm-roberta-longformer-base-16384\n",
    "\n",
    "!python auto_train.py\\\n",
    "     --clone_repo rjx/rjxai-xlm-roberta-test \\\n",
    "     --dataset_name rjx/ai-and-human \\\n",
    "     --index_input sentence1 \\\n",
    "     --max_eval_samples 4 \\\n",
    "     --max_test_samples 4 \\\n",
    "     --max_train_samples 20 \\\n",
    "     --model_max_length 512 \\\n",
    "     --model_name_or_path xlm-roberta-base \\\n",
    "     --task_type text-generation \\\n",
    "     --training_model BERT"
   ]
  },
  {
   "cell_type": "code",
   "execution_count": null,
   "metadata": {},
   "outputs": [],
   "source": [
    "from distutils.sysconfig import get_python_lib\n",
    "\n",
    "print(get_python_lib())\n",
    "# /Users/ofengx/.asdf/installs/python/3.8.13/lib/python3.8/site-packages/transformers/optimization.py:398\n",
    "# /Users/ofengx/Desktop/ai/transformers/src/transformers/optimization.py\n",
    "# /Users/ofengx/Desktop/ai/transformers/src/transformers/integrations.py:1552\n",
    "# /Users/ofengx/Desktop/ai/transformers/src/transformers/trainer.py\n",
    "# /Users/ofengx/.asdf/installs/python/3.8.13/lib/python3.8/site-packages/torch/nn/modules/module.py\n",
    "# /Users/ofengx/Desktop/ai/transformers/src/transformers/models/auto/auto_factory.py\n",
    "# /Users/ofengx/Desktop/ai/transformers/src/transformers/modeling_utils.py\n",
    "# /Users/ofengx/Desktop/ai/transformers/src/transformers/data/data_collator.py\n",
    "# /Users/ofengx/Desktop/ai/transformers/src/transformers/trainer.py\n",
    "# /Users/ofengx/.asdf/installs/python/3.8.13/lib/python3.8/site-packages/torch/nn/modules/module.py\n",
    "# /Users/ofengx/.asdf/installs/python/3.8.13/lib/python3.8/site-packages/peft/peft_model.py\n",
    "# /Users/ofengx/Desktop/ai/transformers/src/transformers/models/llama/modeling_llama.py\n",
    "# /Users/ofengx/.asdf/installs/python/3.8.13/lib/python3.8/site-packages/pynvml.py:310\n",
    "# /Users/ofengx/.asdf/installs/python/3.8.13/lib/python3.8/site-packages/torch/cuda/amp/grad_scaler.py"
   ]
  },
  {
   "cell_type": "code",
   "execution_count": null,
   "metadata": {},
   "outputs": [],
   "source": [
    "from assisted_intelligence.ml.hf_sagemaker import HfSagemaker\n",
    "\n",
    "ml=HfSagemaker(\n",
    "    # 输入自己的 sagemaker 角色\n",
    "    sagemaker_role_name=\"fx_sagemaker_20230419\",\n",
    "    # 设定 sagemaker 训练机器\n",
    "    sagemaker_config={\n",
    "        'instance_type': 'ml.p3.8xlarge',\n",
    "        # 'instance_type': 'ml.p3.16xlarge',\n",
    "        # 'instance_type': 'ml.p3dn.24xlarge',\n",
    "        'instance_count': 1,\n",
    "    },\n",
    ")\n",
    "\n",
    "ml.play(\n",
    "    config={\n",
    "        # 训练类型，目前只有两种训练类型 BERT and LLAMA\n",
    "        'training_model': 'BERT',\n",
    "        'clone_repo': 'rjx/rjxai-albert-longformer-test',\n",
    "        'model_name_or_path':'severinsimmler/xlm-roberta-longformer-base-16384',\n",
    "        'dataset_name': 'rjx/ai-and-human-0516',\n",
    "        'model_max_length': 1024,\n",
    "        'task_type': 'text-generation',\n",
    "        'max_train_samples': 40,\n",
    "        'max_eval_samples': 4,\n",
    "        'max_test_samples': 4,\n",
    "    }, \n",
    ")"
   ]
  }
 ],
 "metadata": {
  "kernelspec": {
   "display_name": "Python 3",
   "language": "python",
   "name": "python3"
  },
  "language_info": {
   "codemirror_mode": {
    "name": "ipython",
    "version": 3
   },
   "file_extension": ".py",
   "mimetype": "text/x-python",
   "name": "python",
   "nbconvert_exporter": "python",
   "pygments_lexer": "ipython3",
   "version": "3.8.13"
  },
  "orig_nbformat": 4
 },
 "nbformat": 4,
 "nbformat_minor": 2
}
