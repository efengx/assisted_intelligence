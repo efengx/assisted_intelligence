{
 "cells": [
  {
   "attachments": {},
   "cell_type": "markdown",
   "metadata": {},
   "source": [
    "# ZH "
   ]
  },
  {
   "attachments": {},
   "cell_type": "markdown",
   "metadata": {},
   "source": [
    "### 数据集都在本地 0516"
   ]
  },
  {
   "cell_type": "code",
   "execution_count": null,
   "metadata": {},
   "outputs": [],
   "source": [
    "!python auto_dataset.py \\\n",
    "    --file_name_list ai20230516-汇总.csv artificial-thucnews-162929-汇总.csv \\\n",
    "    --clone_repo rjx/ai-and-human-0516\\\n",
    "    --input_title_list 0 content"
   ]
  },
  {
   "attachments": {},
   "cell_type": "markdown",
   "metadata": {},
   "source": [
    "### 数据集 都在本地 0522"
   ]
  },
  {
   "cell_type": "code",
   "execution_count": null,
   "metadata": {},
   "outputs": [],
   "source": [
    "!python auto_dataset.py \\\n",
    "    --file_name_list ai20230522-汇总.csv artificial-thucnews-162929-汇总.csv \\\n",
    "    --clone_repo rjx/ai-and-human-0522\\\n",
    "    --input_title_list 0 content"
   ]
  },
  {
   "attachments": {},
   "cell_type": "markdown",
   "metadata": {},
   "source": [
    "### ZH数据集 0602"
   ]
  },
  {
   "attachments": {},
   "cell_type": "markdown",
   "metadata": {},
   "source": [
    "### all ZH数据集4000"
   ]
  },
  {
   "cell_type": "code",
   "execution_count": null,
   "metadata": {},
   "outputs": [],
   "source": [
    "!python auto_dataset.py \\\n",
    "    --task_name PROMPT_MERGE_SPLIT_SAVE \\\n",
    "    --file_name_list ai20230602-汇总.csv artificial-thucnews-162929-汇总.csv \\\n",
    "    --input_title_list 0 content \\\n",
    "    --clone_repo rjx/ai-and-human-zh-prompt-4000-v2 \\\n",
    "    --train_dataset_lenght 4000 \\\n",
    "    --is_save_hf True"
   ]
  },
  {
   "attachments": {},
   "cell_type": "markdown",
   "metadata": {},
   "source": [
    "### 数据集 12000"
   ]
  },
  {
   "cell_type": "code",
   "execution_count": null,
   "metadata": {},
   "outputs": [],
   "source": [
    "!python auto_dataset.py \\\n",
    "    --task_name PROMPT_MERGE_SPLIT_SAVE \\\n",
    "    --file_name_list ai20230602-汇总.csv artificial-thucnews-162929-汇总.csv \\\n",
    "    --input_title_list 0 content \\\n",
    "    --clone_repo rjx/ai-and-human-zh-prompt-12000-v2 \\\n",
    "    --train_dataset_lenght 12000 \\\n",
    "    --is_save_hf True"
   ]
  },
  {
   "attachments": {},
   "cell_type": "markdown",
   "metadata": {},
   "source": [
    "# EN"
   ]
  },
  {
   "attachments": {},
   "cell_type": "markdown",
   "metadata": {},
   "source": [
    "### 数据集 and huggingface dataset 0523"
   ]
  },
  {
   "cell_type": "code",
   "execution_count": null,
   "metadata": {},
   "outputs": [],
   "source": [
    "!python auto_dataset.py \\\n",
    "    --file_name_list chatGPT英文20230523-汇总.csv multi_news \\\n",
    "    --input_title_list content document\\\n",
    "    --clone_repo rjx/ai-and-human-en-0523"
   ]
  },
  {
   "attachments": {},
   "cell_type": "markdown",
   "metadata": {},
   "source": [
    "### prompt clean en dataset train len 4000"
   ]
  },
  {
   "cell_type": "code",
   "execution_count": null,
   "metadata": {},
   "outputs": [],
   "source": [
    "!accelerate launch --config_file assisted_intelligence/config/accelerator/local_train.yaml assisited_intelligence/auto_dataset.py \\\n",
    "    --task_name PROMPT_MERGE_SPLIT_SAVE \\\n",
    "    --file_name_list chatGPT英文20230602-汇总.csv multi_news \\\n",
    "    --input_title_list content document\\\n",
    "    --clone_repo rjx/ai-and-human-en-prompt-4000 \\\n",
    "    --train_dataset_lenght 4000 \\\n",
    "    --is_save_hf True"
   ]
  },
  {
   "attachments": {},
   "cell_type": "markdown",
   "metadata": {},
   "source": [
    "# 待定"
   ]
  },
  {
   "attachments": {},
   "cell_type": "markdown",
   "metadata": {},
   "source": [
    "### 查看数据集标签的分布"
   ]
  }
 ],
 "metadata": {
  "kernelspec": {
   "display_name": "Python 3",
   "language": "python",
   "name": "python3"
  },
  "language_info": {
   "codemirror_mode": {
    "name": "ipython",
    "version": 3
   },
   "file_extension": ".py",
   "mimetype": "text/x-python",
   "name": "python",
   "nbconvert_exporter": "python",
   "pygments_lexer": "ipython3",
   "version": "3.8.13"
  },
  "orig_nbformat": 4
 },
 "nbformat": 4,
 "nbformat_minor": 2
}
