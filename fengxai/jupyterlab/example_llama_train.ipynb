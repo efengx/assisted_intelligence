{
 "cells": [
  {
   "attachments": {},
   "cell_type": "markdown",
   "metadata": {},
   "source": [
    "# 使用 sagemaker tools 运行 llama lora 模型"
   ]
  },
  {
   "cell_type": "code",
   "execution_count": null,
   "metadata": {},
   "outputs": [],
   "source": [
    "from assisted_intelligence.ml.hf_sagemaker import HfSagemaker\n",
    "\n",
    "mlFacotry=HfSagemaker(\n",
    "    # 设定 sagemaker 训练机器\n",
    "    sagemaker_config={\n",
    "        # 'instance_type': 'ml.p3dn.24xlarge',\n",
    "        # 'instance_type': 'ml.p4d.24xlarge',\n",
    "        'instance_type': 'ml.p3.2xlarge',\n",
    "        'instance_count': 1,\n",
    "    },\n",
    ")\n",
    "\n",
    "mlFacotry.play(\n",
    "    config={\n",
    "        # 训练类型，目前只有两种训练类型 BERT LLAMA RLHF\n",
    "        'training_model': 'LLAMA',\n",
    "        'clone_repo': 'rjx/rjxai-lora-7b-v1',\n",
    "        'model_name_or_path':'rjx/rjxai-zh-llama-7b-v1',\n",
    "        'dataset_name': 'rjx/ai-and-human-20',\n",
    "        'task_type': 'text2text',\n",
    "        'use_auth_token': True,\n",
    "        # 'max_train_samples': 20,\n",
    "        # 'max_eval_samples': 2,\n",
    "        # 'max_test_samples': 2,\n",
    "    },\n",
    ")"
   ]
  },
  {
   "attachments": {},
   "cell_type": "markdown",
   "metadata": {},
   "source": [
    "# 使用 sagemaker tools 运行 llama lora 模型 v2"
   ]
  },
  {
   "cell_type": "code",
   "execution_count": null,
   "metadata": {},
   "outputs": [],
   "source": [
    "from fengxai.ml.hf_sagemaker import HfSagemaker\n",
    "\n",
    "mlFacotry=HfSagemaker(\n",
    "    # 设定 sagemaker 训练机器\n",
    "    sagemaker_config={\n",
    "        # 'instance_type': 'ml.p3dn.24xlarge',\n",
    "        # 'instance_type': 'ml.p4d.24xlarge',\n",
    "        # 'instance_type': 'ml.p3.2xlarge',\n",
    "        'instance_type': 'ml.m5.4xlarge',\n",
    "        'instance_count': 1,\n",
    "    },\n",
    ")\n",
    "\n",
    "mlFacotry.play(\n",
    "    config={\n",
    "        # 训练类型，目前只有两种训练类型 BERT LLAMA RLHF\n",
    "        'training_model': 'LLAMA',\n",
    "        'clone_repo': 'rjx/rjxai-lora-7b-v1',\n",
    "        'model_name_or_path':'rjx/rjxai-zh-llama-7b-v1',\n",
    "        'dataset_name': 'rjx/ai-and-human-20',\n",
    "        'task_type': 'text2text',\n",
    "        'use_auth_token': True,\n",
    "        # 'max_train_samples': 20,\n",
    "        # 'max_eval_samples': 2,\n",
    "        # 'max_test_samples': 2,\n",
    "    },\n",
    ")"
   ]
  },
  {
   "attachments": {},
   "cell_type": "markdown",
   "metadata": {},
   "source": [
    "# 使用 Accelerator sagemaker 运行 llama 脚本"
   ]
  },
  {
   "cell_type": "code",
   "execution_count": null,
   "metadata": {},
   "outputs": [],
   "source": [
    "# us-west-2\n",
    "# instructions tuning\n",
    "!accelerate launch --config_file assisted_intelligence/config/accelerator/sagemaker_train.yaml auto_train.py \\\n",
    "    --training_model LLAMA \\\n",
    "    --clone_repo rjx/rjxai-lora-7b-v1 \\\n",
    "    --model_name_or_path rjx/rjxai-zh-llama-7b-v1 \\\n",
    "    --dataset_name rjx/ai-and-human-0516 \\\n",
    "    --task_type text2text \\\n",
    "    --use_auth_token True \\\n",
    "    --max_train_samples 40 \\\n",
    "    --max_eval_samples 4 \\\n",
    "    --max_test_samples 4"
   ]
  },
  {
   "attachments": {},
   "cell_type": "markdown",
   "metadata": {},
   "source": [
    "# 使用 Accelerator local 运行 llama 脚本"
   ]
  },
  {
   "cell_type": "code",
   "execution_count": null,
   "metadata": {},
   "outputs": [],
   "source": [
    "!accelerate launch --config_file assisted_intelligence/config/accelerator/local_train.yaml auto_train.py \\\n",
    "    --training_model RLHF \\\n",
    "    --clone_repo rjx/trl-rlhf-test-v1 \\\n",
    "    --model_name_or_path lvwerra/gpt2-imdb \\\n",
    "    --dataset_name rjx/ai-and-human-20 \\\n",
    "    --use_auth_token True \\\n",
    "    --max_train_samples 40"
   ]
  },
  {
   "attachments": {},
   "cell_type": "markdown",
   "metadata": {},
   "source": [
    "# 测试 accelerate 对应的配置文件"
   ]
  },
  {
   "cell_type": "code",
   "execution_count": null,
   "metadata": {},
   "outputs": [],
   "source": [
    "!accelerate test --config_file assisted_intelligence/config/accelerator/local_train.yaml"
   ]
  }
 ],
 "metadata": {
  "kernelspec": {
   "display_name": "Python 3",
   "language": "python",
   "name": "python3"
  },
  "language_info": {
   "codemirror_mode": {
    "name": "ipython",
    "version": 3
   },
   "file_extension": ".py",
   "mimetype": "text/x-python",
   "name": "python",
   "nbconvert_exporter": "python",
   "pygments_lexer": "ipython3",
   "version": "3.8.13"
  },
  "orig_nbformat": 4
 },
 "nbformat": 4,
 "nbformat_minor": 2
}
